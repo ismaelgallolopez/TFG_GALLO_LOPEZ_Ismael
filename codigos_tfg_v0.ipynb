{
  "cells": [
    {
      "cell_type": "markdown",
      "metadata": {
        "id": "view-in-github",
        "colab_type": "text"
      },
      "source": [
        "<a href=\"https://colab.research.google.com/github/ismaelgallolopez/TFG_GALLO_LOPEZ_Ismael/blob/main/codigos_tfg_v0.ipynb\" target=\"_parent\"><img src=\"https://colab.research.google.com/assets/colab-badge.svg\" alt=\"Open In Colab\"/></a>"
      ]
    },
    {
      "cell_type": "markdown",
      "metadata": {
        "id": "c3ojl-uXagKO"
      },
      "source": [
        "# TFG"
      ]
    },
    {
      "cell_type": "markdown",
      "metadata": {
        "id": "-R-_8fNMagKQ"
      },
      "source": [
        "*Buenos* días"
      ]
    }
  ],
  "metadata": {
    "language_info": {
      "name": "python"
    },
    "colab": {
      "provenance": [],
      "include_colab_link": true
    }
  },
  "nbformat": 4,
  "nbformat_minor": 0
}